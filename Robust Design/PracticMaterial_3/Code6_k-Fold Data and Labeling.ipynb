{
 "cells": [
  {
   "cell_type": "markdown",
   "metadata": {},
   "source": [
    "## 라이브러리 import"
   ]
  },
  {
   "cell_type": "code",
   "execution_count": null,
   "metadata": {},
   "outputs": [],
   "source": [
    "import pandas as pd\n",
    "import numpy as np\n",
    "import matplotlib.pyplot as plt"
   ]
  },
  {
   "cell_type": "markdown",
   "metadata": {},
   "source": [
    "## 데이터 (최종 선택된 특징데이터) 불러오기"
   ]
  },
  {
   "cell_type": "code",
   "execution_count": null,
   "metadata": {},
   "outputs": [],
   "source": [
    "FeatureSelected = pd.read_csv('./ProcessedData/FeatureSelected', sep=',', header=None)\n",
    "FeatureSelected.shape"
   ]
  },
  {
   "cell_type": "markdown",
   "metadata": {},
   "source": [
    "## K값에 맞춰 Fold별 학습/검증 데이터 분할"
   ]
  },
  {
   "cell_type": "markdown",
   "metadata": {},
   "source": [
    "K값(Fold개수), 데이터 개수(정상/고장 각각), 특징 수(=데이터 차원) 정의하여 '1개 Fold의 (검증)데이터 개수' 계산"
   ]
  },
  {
   "cell_type": "code",
   "execution_count": null,
   "metadata": {},
   "outputs": [],
   "source": [
    "NoOfData   = int(FeatureSelected.shape[1]/2)   # 데이터 개수 (정상/고장 각각)\n",
    "Fold       = 5                   # Fold 개수 선정 : 데이터 개수의 약수여야 함.\n",
    "\n",
    "FeatNo     = int(FeatureSelected.shape[0])  # 데이터 특징 수 (=데이터 차원)\n",
    "FoldDataNo = int(NoOfData/Fold)            # 1개 Fold 당 (검증)데이터 개수\n",
    "\n",
    "print(FeatNo)\n",
    "print(FoldDataNo)"
   ]
  },
  {
   "cell_type": "markdown",
   "metadata": {},
   "source": [
    "Fold별 데이터 분할 용이하도록 데이터 Reshape"
   ]
  },
  {
   "cell_type": "code",
   "execution_count": null,
   "metadata": {},
   "outputs": [],
   "source": [
    "NormalSet   = np.array(FeatureSelected.iloc[: , :NoOfData])\n",
    "AbnormalSet = np.array(FeatureSelected.iloc[: , NoOfData:])\n",
    "FeatureSelected_Reshaped = pd.DataFrame(np.concatenate([NormalSet , AbnormalSet] , axis=0))\n",
    "FeatureSelected_Reshaped.shape"
   ]
  },
  {
   "cell_type": "markdown",
   "metadata": {},
   "source": [
    "Fold별 데이터 분할 (정상/고장 데이터 동일하게 분포하도록)"
   ]
  },
  {
   "cell_type": "code",
   "execution_count": null,
   "metadata": {},
   "outputs": [],
   "source": [
    "# Validation Data set\n",
    "for i in range(Fold):\n",
    "    \n",
    "    temp_Valid_Normal   = FeatureSelected_Reshaped.iloc[:FeatNo , FoldDataNo*i : FoldDataNo*(i+1)]\n",
    "    temp_Valid_Abnormal = FeatureSelected_Reshaped.iloc[FeatNo: , FoldDataNo*i : FoldDataNo*(i+1)]\n",
    "    temp_Valid = pd.DataFrame(np.transpose(np.concatenate([temp_Valid_Normal, temp_Valid_Abnormal] , axis=1)))\n",
    "    \n",
    "    s = 'Validation_Fold%d = temp_Valid'%(i+1)\n",
    "    exec(s)\n",
    "\n",
    "    \n",
    "# Training Data set\n",
    "for i in range(Fold):\n",
    "    \n",
    "    temp_Train_Front = FeatureSelected_Reshaped.iloc[:,:FoldDataNo*i]\n",
    "    temp_Train_Back  = FeatureSelected_Reshaped.iloc[:,FoldDataNo*(i+1):]\n",
    "    temp_Train_Total = np.concatenate([temp_Train_Front , temp_Train_Back] , axis=1)\n",
    "    temp_Train_Final = pd.DataFrame(np.transpose(np.concatenate([temp_Train_Total[:FeatNo,:],temp_Train_Total[FeatNo:,:]] , axis=1)))\n",
    "    \n",
    "    s ='Training_Fold%d  = temp_Train_Final'%(i+1)\n",
    "    exec(s)\n"
   ]
  },
  {
   "cell_type": "markdown",
   "metadata": {},
   "source": [
    "데이터 분할 결과(shape) 확인"
   ]
  },
  {
   "cell_type": "code",
   "execution_count": null,
   "metadata": {},
   "outputs": [],
   "source": [
    "Validation_Fold1.shape"
   ]
  },
  {
   "cell_type": "code",
   "execution_count": null,
   "metadata": {},
   "outputs": [],
   "source": [
    "Training_Fold1.shape"
   ]
  },
  {
   "cell_type": "markdown",
   "metadata": {},
   "source": [
    "## Fold 별 학습/검증 데이터 개수에 맞춰 Labeling"
   ]
  },
  {
   "cell_type": "markdown",
   "metadata": {},
   "source": [
    "Fold별 학습/검증 데이터 개수 확인"
   ]
  },
  {
   "cell_type": "code",
   "execution_count": null,
   "metadata": {},
   "outputs": [],
   "source": [
    "NoOfLabel_Train = int(Training_Fold1.shape[0]/2)\n",
    "NoOfLabel_Valid = int(Validation_Fold1.shape[0]/2)\n",
    "\n",
    "print(NoOfLabel_Train)\n",
    "print(NoOfLabel_Valid)"
   ]
  },
  {
   "cell_type": "markdown",
   "metadata": {},
   "source": [
    "#### (1) KNN & SVM 레이블 - 정상: 0 // 고장: 1"
   ]
  },
  {
   "cell_type": "code",
   "execution_count": null,
   "metadata": {},
   "outputs": [],
   "source": [
    "TrainingFold_Label   = np.zeros(2*NoOfLabel_Train , dtype=int)\n",
    "ValidationFold_Label = np.zeros(2*NoOfLabel_Valid , dtype=int)\n",
    "\n",
    "# 고장데이터(학습용) Label 값 = 1\n",
    "TrainingFold_Label[NoOfLabel_Train:] = 1\n",
    "\n",
    "# 고장데이터(검증용) Label 값 = 1\n",
    "ValidationFold_Label[NoOfLabel_Valid:] = 1\n",
    "\n",
    "TrainingFold_Label   = pd.Series(TrainingFold_Label)\n",
    "ValidationFold_Label = pd.Series(ValidationFold_Label)\n",
    "\n",
    "#TrainingFold_Label\n",
    "ValidationFold_Label"
   ]
  },
  {
   "cell_type": "markdown",
   "metadata": {},
   "source": [
    "#### (2) ANN 레이블 (One-hot encoding) - 정상: [1, 0] // 고장: [0, 1]"
   ]
  },
  {
   "cell_type": "code",
   "execution_count": null,
   "metadata": {},
   "outputs": [],
   "source": [
    "TrainingFold_Label_forANN   = np.zeros((NoOfLabel_Train*2,2) , dtype=int)\n",
    "ValidationFold_Label_forANN = np.zeros((NoOfLabel_Valid*2,2) , dtype=int)\n",
    "\n",
    "TrainingFold_Label_forANN[:NoOfLabel_Train , 0] = 1    # 정상(학습)데이터 레이블 : [1,0]\n",
    "TrainingFold_Label_forANN[NoOfLabel_Train: , 1] = 1    # 고장(학습)데이터 레이블 : [0,1]\n",
    "\n",
    "ValidationFold_Label_forANN[:NoOfLabel_Valid , 0] = 1  # 정상(검증)데이터 레이블 : [1,0]\n",
    "ValidationFold_Label_forANN[NoOfLabel_Valid: , 1] = 1  # 고장(검증)데이터 레이블 : [0,1]\n",
    "\n",
    "TrainingFold_Label_forANN   = pd.DataFrame(TrainingFold_Label_forANN)\n",
    "ValidationFold_Label_forANN = pd.DataFrame(ValidationFold_Label_forANN)\n",
    "\n",
    "TrainingFold_Label_forANN\n",
    "#ValidationFold_Label_forANN"
   ]
  },
  {
   "cell_type": "markdown",
   "metadata": {},
   "source": [
    "## k-fold 데이터 및 레이블 저장"
   ]
  },
  {
   "cell_type": "markdown",
   "metadata": {},
   "source": [
    "k-fold 데이터 (Training & Validation) 저장"
   ]
  },
  {
   "cell_type": "code",
   "execution_count": null,
   "metadata": {
    "scrolled": true
   },
   "outputs": [],
   "source": [
    "for i in range(Fold):\n",
    "    \n",
    "    path1 = './K_FoldData/Training_Fold%d'  %(i+1)\n",
    "    path2 = './K_FoldData/Validation_Fold%d'%(i+1)\n",
    "    \n",
    "    c1 = 'Training_Fold%d.to_csv(  path1, sep = \",\", header = None, index = None)'%(i+1)\n",
    "    c2 = 'Validation_Fold%d.to_csv(path2, sep = \",\", header = None, index = None)'%(i+1)\n",
    "    exec(c1)\n",
    "    exec(c2)\n",
    "    "
   ]
  },
  {
   "cell_type": "markdown",
   "metadata": {},
   "source": [
    "레이블 (Training & Validation) 저장"
   ]
  },
  {
   "cell_type": "code",
   "execution_count": null,
   "metadata": {},
   "outputs": [],
   "source": [
    "TrainingFold_Label.to_csv(  './K_FoldData/TrainingFold_Label', header = None, index = None)\n",
    "ValidationFold_Label.to_csv('./K_FoldData/ValidationFold_Label', header = None, index = None)\n",
    "\n",
    "TrainingFold_Label_forANN.to_csv(  './K_FoldData/TrainingFold_Label_forANN', sep = \",\", header = None, index = None)\n",
    "ValidationFold_Label_forANN.to_csv('./K_FoldData/ValidationFold_Label_forANN', sep = \",\", header = None, index = None)"
   ]
  },
  {
   "cell_type": "markdown",
   "metadata": {},
   "source": [
    "## 최종 AI모델 학습용 전체 데이터 및 레이블 저장"
   ]
  },
  {
   "cell_type": "markdown",
   "metadata": {},
   "source": [
    "전체 데이터 저장 (행렬 전치)"
   ]
  },
  {
   "cell_type": "code",
   "execution_count": null,
   "metadata": {},
   "outputs": [],
   "source": [
    "Training_All = np.transpose(FeatureSelected)\n",
    "\n",
    "Training_All.shape"
   ]
  },
  {
   "cell_type": "markdown",
   "metadata": {},
   "source": [
    "#### 전체 데이터 레이블 (1) SVM 및 KNN 맞춤형"
   ]
  },
  {
   "cell_type": "code",
   "execution_count": null,
   "metadata": {},
   "outputs": [],
   "source": [
    "Training_All_Label = np.zeros(NoOfData*2)\n",
    "\n",
    "Training_All_Label[NoOfData:] = 1    # 고장데이터(학습용) Label 값 = 1\n",
    "Training_All_Label = pd.Series(Training_All_Label)\n",
    "\n",
    "Training_All_Label.shape"
   ]
  },
  {
   "cell_type": "markdown",
   "metadata": {},
   "source": [
    "#### 전체 데이터 레이블 (2) ANN 맞춤형 (One-hot encoding)"
   ]
  },
  {
   "cell_type": "code",
   "execution_count": null,
   "metadata": {},
   "outputs": [],
   "source": [
    "Training_All_Label_forANN = np.zeros((NoOfData*2,2))\n",
    "\n",
    "Training_All_Label_forANN[:NoOfData , 0] = 1\n",
    "Training_All_Label_forANN[NoOfData: , 1] = 1\n",
    "Training_All_Label_forANN = pd.DataFrame(Training_All_Label_forANN)\n",
    "\n",
    "Training_All_Label_forANN.shape"
   ]
  },
  {
   "cell_type": "markdown",
   "metadata": {},
   "source": [
    "전체 데이터 & 레이블 저장"
   ]
  },
  {
   "cell_type": "code",
   "execution_count": null,
   "metadata": {},
   "outputs": [],
   "source": [
    "Training_All.to_csv('./K_FoldData/Training_All', sep = \",\", header = None, index = None)\n",
    "Training_All_Label.to_csv('./K_FoldData/Training_All_Label', sep = \",\", header = None, index = None)\n",
    "Training_All_Label_forANN.to_csv('./K_FoldData/Training_All_Label_forANN', sep = \",\", header = None, index = None)"
   ]
  },
  {
   "cell_type": "markdown",
   "metadata": {},
   "source": [
    "# [실습 과제 3]"
   ]
  },
  {
   "cell_type": "markdown",
   "metadata": {},
   "source": [
    "## 6개 Fold로 K-Fold 데이터 생성(분할)\n",
    "#### >>>>>> 저장된 6개 Fold 학습/검증 데이터  압축하여 zip파일 제출\n",
    "#### >>>>>> 데이터 이름 : ST(수강생 번호)_HW3.zip  (예시 : 'ST000_HW3.zip'  //  'ST00_HW3.zip'  //  'ST0_HW3.zip')\n",
    "#### >>>>>> 데이터 이름 중 'ST' , 'HW' 등 영어는 모두 대문자"
   ]
  },
  {
   "cell_type": "code",
   "execution_count": null,
   "metadata": {},
   "outputs": [],
   "source": []
  },
  {
   "cell_type": "markdown",
   "metadata": {},
   "source": [
    "### ****** 필독 !! 실습과제 주의사항 ******"
   ]
  },
  {
   "cell_type": "markdown",
   "metadata": {},
   "source": [
    "- 각자의 \"수강생 번호\" 확인 (아이캠퍼스 공지) \n",
    "- 제출하는 실습과제 파일에 \"수강생 번호\"를 기준으로 작성 (이름, 학번 등 작성X)\n",
    "- 각 실습과제에 대한 구체적인 파일 이름은 매번 개별 안내 \n",
    "  (수강생 번호 123번 학생 과제파일 예시 : 'ST123_HW2_1.csv' )\n",
    "- 과제 파일이름 양식 지키지 않을 시 감점!"
   ]
  }
 ],
 "metadata": {
  "kernelspec": {
   "display_name": "Python 3",
   "language": "python",
   "name": "python3"
  },
  "language_info": {
   "codemirror_mode": {
    "name": "ipython",
    "version": 3
   },
   "file_extension": ".py",
   "mimetype": "text/x-python",
   "name": "python",
   "nbconvert_exporter": "python",
   "pygments_lexer": "ipython3",
   "version": "3.7.7"
  }
 },
 "nbformat": 4,
 "nbformat_minor": 2
}
