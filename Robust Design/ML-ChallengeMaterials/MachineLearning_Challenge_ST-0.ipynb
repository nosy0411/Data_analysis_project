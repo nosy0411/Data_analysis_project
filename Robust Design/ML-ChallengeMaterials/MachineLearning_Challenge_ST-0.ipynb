{
 "cells": [
  {
   "cell_type": "markdown",
   "metadata": {},
   "source": [
    "# 도전학기 '빅데이터와 인공지능을 활용한 시스템 강건설계' 머신러닝 챌런지!"
   ]
  },
  {
   "cell_type": "markdown",
   "metadata": {},
   "source": [
    "#### - 머신러닝 챌런지 목표 \n",
    ": 실습내용을 바탕으로 직접 인공지능 모델을 학습시키고 새로운 검사 데이터에 대해 진단결과를 출력할 수 있도록 코드를 작성하는 능력 평가\n",
    "\n",
    "\n",
    "#### - 데이터 출처 (데이터 챌런지 2단계의 Fault1 & 2 인덱싱 데이터 중 일부 발췌) \n",
    ": 2015 PHM Conference Data Callenge (https://www.phmsociety.org/events/conference/phm/15/data-challenge)\n",
    "\n",
    ". \n",
    "\n",
    ". \n",
    "\n",
    ".\n",
    "\n",
    "\n",
    "## 머신러닝 챌런지 수행 단계 가이드\n",
    "\n",
    "\n",
    "#### (1) 주어진 데이터를 사용해 직접 특징 추출/선택 및 머신러닝을 수행 (학습 과정에서 작성한 코드는 제출할 필요 없음.)\n",
    "- 학습용 데이터 : TrainingData 폴더 내 \"Fault1_Train1 ~ 50\" 및 \"Fault2_Train1 ~ 50\" 등 총 100개 파일\n",
    "- 머신러닝을 위한 학습데이터 레이블(Label)은 직접 만들어 사용\n",
    "\n",
    "\n",
    "- 어떤 특징을 사용 및 선택할지, 어떤 머신러닝 알고리즘을 어떻게 사용할지 등 모든 과정 각자 자유롭게 결정\n",
    "\n",
    "\n",
    "- [필수] 학습완료된 머신러닝 모델은 제공된 폴더(MLmodel) 안에 저장! (모델의 파일이름은 양식 따로 없음)\n",
    "\n",
    "#### (2) 학습완료 후 현재 코드파일에서 \"저장된 머신러닝 모델 파일\" 및 \"검사 데이터+레이블\" 불러와서 진단 결과 출력하도록 코드 작성\n",
    "- 검사용 데이터 : TestData 폴더 내 \"TestData1 ~ 20\" 등 총 20개 파일 + 레이블(Label) 2개 파일\n",
    "- 검사데이터 불러오는 코드 수정x (채점 시 동일한 경로 및 동일한 이름의 데이터파일 사용 예정)\n",
    "\n",
    "\n",
    "- 학습된 머신러닝 모델 파일의 경로(MLmodel 폴더) 및 파일 이름에 맞게 코드 작성하여 모델 불러오기\n",
    "\n",
    "#### (3) 최종 저장된 현재 코드파일(.ipynb) 및 머신러닝 모델 들어있는 폴더(MLmodel) 함께 1개 압축파일(.zip)로 만들어 제출\n",
    "- 압축파일 이름 ST(수강생 번호)_ML (예시 : 'ST000_ML.zip'  //  'ST00_ML.zip'  //  'ST0_ML.zip')\n",
    "- 코드 마지막 저장 시 주피터노트북 상단 메뉴 'Kernel > Restart & Clear Output > Restart and Clear All Output' 수행 후 저장하고 제출\n"
   ]
  },
  {
   "cell_type": "markdown",
   "metadata": {},
   "source": [
    ".\n",
    "\n",
    ".\n",
    "\n",
    ".\n",
    "\n"
   ]
  },
  {
   "cell_type": "markdown",
   "metadata": {},
   "source": [
    "### 필요한 라이브러리 import\n",
    "- numpy, pandas 등 필요한 라이브러리들 불러오기"
   ]
  },
  {
   "cell_type": "code",
   "execution_count": null,
   "metadata": {},
   "outputs": [],
   "source": []
  },
  {
   "cell_type": "markdown",
   "metadata": {},
   "source": [
    "### 학습완료된 머신러닝 모델 불러오기\n",
    "- 직접 학습하여 저장한 머신러닝 모델 (제공된 MLmodel 폴더안에 저장된) 파일 불러오기 "
   ]
  },
  {
   "cell_type": "code",
   "execution_count": null,
   "metadata": {},
   "outputs": [],
   "source": []
  },
  {
   "cell_type": "markdown",
   "metadata": {},
   "source": [
    "### 검사 데이터 및 레이블 불러오기 (코드 수정x)\n",
    "* TestData1  ~  10 : Fault1 데이터 (Label: 0 혹은 [1,0])\n",
    "* TestData11 ~ 20 : Fault2 데이터  (Label: 1 혹은 [0,1])\n",
    "\n",
    "\n",
    "* 제공된 검사 데이터(TestData1~20)와 실제 채점용 검사 테스트 데이터는 파일 이름만 동일한 \"다른 데이터\"를 사용할 예정 (Fault1, 2 순서  또한 랜덤)"
   ]
  },
  {
   "cell_type": "code",
   "execution_count": null,
   "metadata": {},
   "outputs": [],
   "source": [
    "for i in range(1,21):\n",
    "    s = \"TestData%d = pd.read_csv('TestData/TestData%d', header=None)\"%(i,i)\n",
    "    exec(s)\n",
    "    \n",
    "TestData_Label        = np.array(pd.read_csv('TestData/TestData_Label', header=None))\n",
    "TestData_Label_forANN = np.array(pd.read_csv('TestData/TestData_Label_forANN', header=None))\n",
    "\n",
    "TestData20.shape # 정상적으로 불러왔다면 (228,4) 출력"
   ]
  },
  {
   "cell_type": "markdown",
   "metadata": {},
   "source": [
    ".\n",
    "\n",
    ".\n",
    "\n",
    ".\n",
    "\n"
   ]
  },
  {
   "cell_type": "markdown",
   "metadata": {},
   "source": [
    "### 데이터 특징 추출\n",
    "* 학습에 사용된 데이터 특징과 동일하게 추출 (순서도 동일)"
   ]
  },
  {
   "cell_type": "code",
   "execution_count": null,
   "metadata": {},
   "outputs": [],
   "source": []
  },
  {
   "cell_type": "markdown",
   "metadata": {},
   "source": [
    "### 데이터 특징 선택\n",
    "* 주의 : 검사 데이터로 별도의 t-Test를 수행(P-value 계산)하지 말 것 >> 학습 과정에서 선택된 특징과 동일한 특징 선택 및 동일한 순서로 배열"
   ]
  },
  {
   "cell_type": "code",
   "execution_count": null,
   "metadata": {},
   "outputs": [],
   "source": []
  },
  {
   "cell_type": "markdown",
   "metadata": {},
   "source": [
    ".\n",
    "\n",
    ".\n",
    "\n",
    ".\n",
    "\n"
   ]
  },
  {
   "cell_type": "markdown",
   "metadata": {},
   "source": [
    "### 검사 데이터의 진단 결과 출력 및 정확도 평가\n",
    "- 상기 불러온 검사 데이터 20개의 특징(선택된)데이터 및 레이블을 이용하여 머신러닝 모델의 정확도 평가\n",
    "- 정확도 60% 미만일 경우 감점. 80% 이상일 경우 가산점 (채점용 검사 데이터로 정확도 평가 결과 기준)"
   ]
  },
  {
   "cell_type": "code",
   "execution_count": null,
   "metadata": {},
   "outputs": [],
   "source": []
  },
  {
   "cell_type": "markdown",
   "metadata": {},
   "source": [
    ".\n",
    "\n",
    ".\n",
    "\n",
    ".\n",
    "\n"
   ]
  },
  {
   "cell_type": "markdown",
   "metadata": {},
   "source": [
    ".\n",
    "\n",
    ".\n",
    "\n",
    ".\n",
    "\n"
   ]
  },
  {
   "cell_type": "markdown",
   "metadata": {},
   "source": [
    "화이팅"
   ]
  }
 ],
 "metadata": {
  "kernelspec": {
   "display_name": "Python 3",
   "language": "python",
   "name": "python3"
  },
  "language_info": {
   "codemirror_mode": {
    "name": "ipython",
    "version": 3
   },
   "file_extension": ".py",
   "mimetype": "text/x-python",
   "name": "python",
   "nbconvert_exporter": "python",
   "pygments_lexer": "ipython3",
   "version": "3.7.7"
  }
 },
 "nbformat": 4,
 "nbformat_minor": 4
}
