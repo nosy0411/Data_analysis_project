{
 "cells": [
  {
   "cell_type": "markdown",
   "metadata": {},
   "source": [
    "# 도전학기 '빅데이터와 인공지능을 활용한 시스템 강건설계' 데이터 챌런지!"
   ]
  },
  {
   "cell_type": "markdown",
   "metadata": {},
   "source": [
    "#### - 데이터 챌런지 목표 \n",
    ": 많은 양의 데이터(빅데이터)에서 필요한 정보만 추출(인덱싱)하고, 원하는 형태로 가공할 수 있는 데이터 핸들링 수행능력 평가\n",
    "\n",
    "\n",
    "#### - 데이터 출처 (일부 데이터 편집) \n",
    ": 2015 PHM Conference Data Callenge (https://www.phmsociety.org/events/conference/phm/15/data-challenge)\n",
    "\n",
    "\n",
    "#### - 가이드에 따라 총 4단계의 데이터 챌런지를 수행하며, 각 단계의 결과값(.csv 데이터 파일)과 최종 코드파일(.ipynb)을 1개 압축파일(.zip)로 제출\n"
   ]
  },
  {
   "cell_type": "code",
   "execution_count": null,
   "metadata": {},
   "outputs": [],
   "source": [
    "import numpy as np\n",
    "import pandas as pd\n",
    "import matplotlib.pyplot as plt"
   ]
  },
  {
   "cell_type": "markdown",
   "metadata": {},
   "source": [
    "DataFrame 행,열 생략 방지"
   ]
  },
  {
   "cell_type": "code",
   "execution_count": null,
   "metadata": {},
   "outputs": [],
   "source": [
    "pd.set_option('display.max_columns', 500)\n",
    "pd.set_option('display.max_rows',   5000)"
   ]
  },
  {
   "cell_type": "markdown",
   "metadata": {},
   "source": [
    "# 데이터 불러오기"
   ]
  },
  {
   "cell_type": "markdown",
   "metadata": {},
   "source": [
    "### A type 데이터와 C type 데이터 불러오기 (site1~70)"
   ]
  },
  {
   "cell_type": "code",
   "execution_count": null,
   "metadata": {},
   "outputs": [],
   "source": [
    "for i in range(1,71):\n",
    "    s1= \"site%da = pd.read_csv('Data/site%da.csv', header=None)\"%(i,i)\n",
    "    s2= \"site%dc = pd.read_csv('Data/site%dc.csv', header=None)\"%(i,i)\n",
    "    exec(s1)\n",
    "    exec(s2)\n",
    "    \n",
    "    if i%10 == 0:\n",
    "        print(i)"
   ]
  },
  {
   "cell_type": "markdown",
   "metadata": {},
   "source": [
    "### A type 데이터 (총 70개) 살펴보기\n",
    "[site1a ~ site70a]\n",
    "\n",
    "0열 : Component 종류 (HVAC1 ~ HVAC6)  ** HVAC(Heating, Ventilation and Air Conditioning) : 난방, 환기, 냉방 등 공기조화 시스템\n",
    "\n",
    "1열 : 데이가 샘플링된 시간\n",
    "\n",
    "2 ~ 5열 : 센서 데이터 1~4\n",
    "\n",
    "6 ~ 9열 : Control / Operation 데이터 1~4"
   ]
  },
  {
   "cell_type": "code",
   "execution_count": null,
   "metadata": {},
   "outputs": [],
   "source": [
    "site1a"
   ]
  },
  {
   "cell_type": "markdown",
   "metadata": {},
   "source": [
    "### C type 데이터 (총 70개) 살펴보기\n",
    "[site1c ~ site70c]\n",
    "\n",
    "0열 : 해당 고장(Fault)이 발생한 구간의 시작 시간 (Start time)\n",
    "\n",
    "1열 : 해당 고장(Fault)이 발생한 구간의 종료 시간 (End time)\n",
    "\n",
    "3열 : 고장모드(Fault mode) 이름"
   ]
  },
  {
   "cell_type": "code",
   "execution_count": null,
   "metadata": {},
   "outputs": [],
   "source": [
    "site1c"
   ]
  },
  {
   "cell_type": "markdown",
   "metadata": {},
   "source": [
    ".\n",
    "\n",
    ".\n",
    "\n",
    ".\n",
    "\n"
   ]
  },
  {
   "cell_type": "markdown",
   "metadata": {},
   "source": [
    "# [1단계] A type & C type 데이터 인덱싱 (5점)"
   ]
  },
  {
   "cell_type": "markdown",
   "metadata": {},
   "source": [
    "### * Tip : 데이터 내에서 특정 인덱스(Index)에 해당하는 데이터만 추출하는 방법"
   ]
  },
  {
   "cell_type": "markdown",
   "metadata": {},
   "source": [
    "예시데이터 (Data frame) 생성"
   ]
  },
  {
   "cell_type": "code",
   "execution_count": null,
   "metadata": {},
   "outputs": [],
   "source": [
    "ExampleData = pd.DataFrame( np.transpose(\n",
    "      [ ['Lee', 'Lee', 'Lee', 'Kim', 'Park'],\n",
    "        [2013 , 2014 , 2015 , 2016 , 2015  ],\n",
    "        [1.5  , 1.7  , 3.6  , 2.4  , 2.9   ] ]))\n",
    "\n",
    "ExampleData"
   ]
  },
  {
   "cell_type": "markdown",
   "metadata": {},
   "source": [
    "name이 'Lee'에 해당하는 데이터만 추출"
   ]
  },
  {
   "cell_type": "code",
   "execution_count": null,
   "metadata": {},
   "outputs": [],
   "source": [
    "ExampleData_Lee = ExampleData[  ExampleData[0]=='Lee' ]\n",
    "ExampleData_Lee"
   ]
  },
  {
   "cell_type": "markdown",
   "metadata": {},
   "source": [
    ".\n",
    "\n",
    ".\n",
    "\n",
    ".\n",
    "\n"
   ]
  },
  {
   "cell_type": "markdown",
   "metadata": {},
   "source": [
    "## A type 데이터 인덱싱\n",
    "Site1a ~ Site70a 데이터에 대하여 0열(Component)이 HVAC1인 데이터만 인덱싱하여 저장\n",
    "\n",
    "#### [필수] 인덱싱 후 데이터 (총 70개) 이름(변수명) : \n",
    "- site1a_HVAC1 ~ site70a_HVAC1"
   ]
  },
  {
   "cell_type": "code",
   "execution_count": null,
   "metadata": {},
   "outputs": [],
   "source": [
    "\n",
    "# 코드 작성\n"
   ]
  },
  {
   "cell_type": "code",
   "execution_count": null,
   "metadata": {},
   "outputs": [],
   "source": [
    "# 데이터 확인 (site1~ 70)\n",
    "site1a_HVAC1"
   ]
  },
  {
   "cell_type": "markdown",
   "metadata": {},
   "source": [
    ".\n",
    "\n",
    ".\n",
    "\n",
    ".\n",
    "\n"
   ]
  },
  {
   "cell_type": "markdown",
   "metadata": {},
   "source": [
    "## C type 데이터 인덱싱\n",
    "site1c ~ site70c 데이터에 대하여, 2열(고장모드) 중 'DeltaT1CoolingZoneInSpec'을 Fault 1 , 'DeltaT1CoolingZoneNotSpec'을 Fault2로 인덱싱\n",
    "\n",
    "#### [필수] 인덱싱 후 데이터 (총 140개) 이름(변수명) : \n",
    "- (Fault 1) site1c_Fault1 ~ site70c_Fault1\n",
    "\n",
    "- (Fault 2) site1c_Fault2 ~ site70c_Fault2"
   ]
  },
  {
   "cell_type": "code",
   "execution_count": null,
   "metadata": {},
   "outputs": [],
   "source": [
    "\n",
    "# 코드 작성\n"
   ]
  },
  {
   "cell_type": "code",
   "execution_count": null,
   "metadata": {},
   "outputs": [],
   "source": [
    "# Fault1 데이터 확인 (site1~ 70)\n",
    "print(site1c_Fault1.shape)\n",
    "site1c_Fault1"
   ]
  },
  {
   "cell_type": "code",
   "execution_count": null,
   "metadata": {},
   "outputs": [],
   "source": [
    "# Fault2 데이터 확인 (site1~ 70)\n",
    "print(site1c_Fault2.shape)\n",
    "site1c_Fault2"
   ]
  },
  {
   "cell_type": "markdown",
   "metadata": {},
   "source": [
    ".\n",
    "\n",
    ".\n",
    "\n",
    ".\n",
    "\n"
   ]
  },
  {
   "cell_type": "markdown",
   "metadata": {},
   "source": [
    "### 1단계 결과물 체출용 데이터 파일로 저장 (수강생 번호 외 코드수정X)\n",
    "\n",
    "- 위에서 데이터 이름(변수명) 가이드에 맞게 지정됐는지 재확인 요망"
   ]
  },
  {
   "cell_type": "code",
   "execution_count": null,
   "metadata": {},
   "outputs": [],
   "source": [
    "StudentNo = 0   # 수강생 번호 입력\n",
    "\n",
    "Path1 = './Result/ST%d_DC1_1'%StudentNo\n",
    "Path2 = './Result/ST%d_DC1_2'%StudentNo\n",
    "Path3 = './Result/ST%d_DC1_3'%StudentNo\n",
    "\n",
    "site70a_HVAC1.to_csv( Path1 , sep=',' , header=None , index=None)\n",
    "site35c_Fault1.to_csv(Path2 , sep=',' , header=None , index=None)\n",
    "site10c_Fault2.to_csv(Path3 , sep=',' , header=None , index=None)"
   ]
  },
  {
   "cell_type": "markdown",
   "metadata": {},
   "source": [
    ".\n",
    "\n",
    ".\n",
    "\n",
    ".\n",
    "\n"
   ]
  },
  {
   "cell_type": "markdown",
   "metadata": {},
   "source": [
    "# [2단계] 고장모드 별 데이터 인덱싱 (10점)"
   ]
  },
  {
   "cell_type": "markdown",
   "metadata": {},
   "source": [
    "### * Tip : C type 데이터의 시간정보를 이용해 A type 데이터 인덱싱하는 방법"
   ]
  },
  {
   "cell_type": "markdown",
   "metadata": {},
   "source": [
    "예시데이터 이용해 c_Fault2 데이터의 첫번째 고장구간에 해당하는 a_HVAC1 데이터의 시작점(StartPoint) 및 끝점(EndPoint) 탐색"
   ]
  },
  {
   "cell_type": "code",
   "execution_count": null,
   "metadata": {},
   "outputs": [],
   "source": [
    "Example_site0a_HVAC1  = pd.read_csv('./ExampleData/Example_site0a_HVAC1',header=None)\n",
    "Example_site0c_Fault2 = pd.read_csv('./ExampleData/Example_site0c_Fault2',header=None)"
   ]
  },
  {
   "cell_type": "code",
   "execution_count": null,
   "metadata": {},
   "outputs": [],
   "source": [
    "Example_site0a_HVAC1"
   ]
  },
  {
   "cell_type": "code",
   "execution_count": null,
   "metadata": {},
   "outputs": [],
   "source": [
    "Example_site0c_Fault2"
   ]
  },
  {
   "cell_type": "code",
   "execution_count": null,
   "metadata": {},
   "outputs": [],
   "source": [
    "# 수정된 부분입니다. 과제를 진행하실 때, 영상이 아닌 다음 코드를 사용해주시기 바랍니다.\n",
    "\n",
    "StartPoint = np.where(Example_site0a_HVAC1.iloc[:,1].values <= Example_site0c_Fault2.iloc[0,0])[0][-1]\n",
    "EndPoint   = np.where(Example_site0a_HVAC1.iloc[:,1].values <= Example_site0c_Fault2.iloc[0,1])[0][-1]\n",
    "\n",
    "\n",
    "StartPoint, EndPoint"
   ]
  },
  {
   "cell_type": "markdown",
   "metadata": {},
   "source": [
    ".\n",
    "\n",
    ".\n",
    "\n",
    ".\n",
    "\n"
   ]
  },
  {
   "cell_type": "markdown",
   "metadata": {},
   "source": [
    "### Fault 1에 해당하는 구간의 A type (HVAC1) 데이터 추출\n",
    "- 아래 가이드에 따르지 않고 더 좋은 방법으로 코드 작성해도 결과만 맞으면 무관\n",
    "\n",
    "#### [필수] 추출 후 데이터 (총 140개) 이름(변수명) : \n",
    "- (Fault1구간 추출) site1a_HVAC1_Fault1 ~ site70a_HVAC1_Fault1\n",
    "- (Fault2구간 추출) site1a_HVAC1_Fault2 ~ site70a_HVAC1_Fault2"
   ]
  },
  {
   "cell_type": "code",
   "execution_count": null,
   "metadata": {},
   "outputs": [],
   "source": [
    "for i in range(  ):       # 반복구문 1 : 데이터(1~70) 순서대로 코드 실행\n",
    "\n",
    "    # 반복구문 내에서 사용할 temp_data_a , temp_data_c1 지정\n",
    "    s1 = 'temp_data_a  =  '%\n",
    "    s2 = 'temp_data_c1 =  '%\n",
    "    exec(s1)\n",
    "    exec(s2)\n",
    "    \n",
    "    for j in range(  ):   # 반복구문 2 : Fault1의 고장구간 개수(temp_data_c1의 행 길이)에 따라 순서대로 코드 실행\n",
    "        \n",
    "        np.concatenate()\n",
    "    \n",
    "    print('\\n %d번째 데이터의 고장구간 추출 완료'%i)\n"
   ]
  },
  {
   "cell_type": "markdown",
   "metadata": {},
   "source": [
    "고장모드 2에 대해서도 동일하게 수행"
   ]
  },
  {
   "cell_type": "markdown",
   "metadata": {},
   "source": [
    ".\n",
    "\n",
    ".\n",
    "\n",
    ".\n",
    "\n"
   ]
  },
  {
   "cell_type": "markdown",
   "metadata": {},
   "source": [
    ".\n",
    "\n",
    ".\n",
    "\n",
    ".\n",
    "\n"
   ]
  },
  {
   "cell_type": "markdown",
   "metadata": {},
   "source": [
    "### 추출된 데이터(총 140개)의 사이즈(shape) 확인 (코드수정x)"
   ]
  },
  {
   "cell_type": "code",
   "execution_count": null,
   "metadata": {},
   "outputs": [],
   "source": [
    "DataSize_Fault1= pd.DataFrame(site1a_HVAC1_Fault1.shape)\n",
    "\n",
    "for i in range(2,71):\n",
    "    s = 'DataSize_Fault1_add = pd.DataFrame(site%da_HVAC1_Fault1.shape)'%i\n",
    "    exec(s)\n",
    "    DataSize_Fault1 = pd.DataFrame(np.concatenate([DataSize_Fault1 , DataSize_Fault1_add], axis=1))\n",
    "    \n",
    "DataSize_Fault1"
   ]
  },
  {
   "cell_type": "code",
   "execution_count": null,
   "metadata": {},
   "outputs": [],
   "source": [
    "DataSize_Fault2= pd.DataFrame(site1a_HVAC1_Fault2.shape)\n",
    "\n",
    "for i in range(2,71):\n",
    "    s = 'DataSize_Fault2_add = pd.DataFrame(site%da_HVAC1_Fault2.shape)'%i\n",
    "    exec(s)\n",
    "    DataSize_Fault2 = pd.DataFrame(np.concatenate([DataSize_Fault2 , DataSize_Fault2_add], axis=1))\n",
    "    \n",
    "DataSize_Fault2"
   ]
  },
  {
   "cell_type": "markdown",
   "metadata": {},
   "source": [
    ".\n",
    "\n",
    ".\n",
    "\n",
    ".\n",
    "\n"
   ]
  },
  {
   "cell_type": "markdown",
   "metadata": {},
   "source": [
    "### 2단계 결과물 체출용 데이터 파일로 저장 (수강생 번호 외 코드수정X)\n",
    "\n",
    "- 위에서 데이터 이름(변수명) 가이드에 맞게 지정됐는지 재확인 요망"
   ]
  },
  {
   "cell_type": "code",
   "execution_count": null,
   "metadata": {},
   "outputs": [],
   "source": [
    "# 수정된 부분입니다. 과제를 진행하실 때, 영상이 아닌 다음 코드를 사용해주시기 바랍니다.\n",
    "# StudentNo = 0   # 수강생 번호 입력\n",
    "\n",
    "Path1 = './Result/ST%d_DC2_1'%StudentNo\n",
    "Path2 = './Result/ST%d_DC2_2'%StudentNo\n",
    "Path3 = './Result/ST%d_DC2_3'%StudentNo\n",
    "Path4 = './Result/ST%d_DC2_4'%StudentNo\n",
    "\n",
    "site35a_HVAC1_Fault1.to_csv( Path1 , sep=',' , header=None , index=None)\n",
    "site45a_HVAC1_Fault2.to_csv( Path2 , sep=',' , header=None , index=None)\n",
    "DataSize_Fault1.to_csv(      Path3 , sep=',' , header=None , index=None)\n",
    "DataSize_Fault2.to_csv(      Path4 , sep=',' , header=None , index=None)"
   ]
  },
  {
   "cell_type": "markdown",
   "metadata": {},
   "source": [
    ".\n",
    "\n",
    ".\n",
    "\n",
    ".\n",
    "\n"
   ]
  },
  {
   "cell_type": "markdown",
   "metadata": {},
   "source": [
    "# 3단계 데이터 특징 추출 (5점)\n",
    "\n",
    "2단계에서 추출한 140개 데이터에 대하여 각 센서(열) 별로 아래 5개 특징값 순서대로 추출\n",
    "- Max(최대값), Min(최소값), Mean(평균값), RMS(제곱평균제곱근), Variance(분산) 순서대로"
   ]
  },
  {
   "cell_type": "code",
   "execution_count": null,
   "metadata": {},
   "outputs": [],
   "source": [
    "def rms(x): # RMS 함수 정의\n",
    "    return np.sqrt(np.mean(x**2))"
   ]
  },
  {
   "cell_type": "markdown",
   "metadata": {},
   "source": [
    "\n",
    "#### [필수] 추출 후 특징데이터 (총 2개) 이름(변수명) : \n",
    "- (Fault1 특징데이터) FeatureData_Fault1\n",
    "- (Fault2 특징데이터) FeatureData_Fault2"
   ]
  },
  {
   "cell_type": "code",
   "execution_count": null,
   "metadata": {},
   "outputs": [],
   "source": [
    "# 특징데이터 크기 지정\n",
    "NoOfSensor  = 4\n",
    "NoOfFeature = 5\n",
    "NoOfData    = 70\n",
    "\n",
    "\n",
    "# 특징추출 코드 작성\n",
    "\n",
    "for i in range(NoOfData):\n",
    "    \n",
    "    \n",
    "    for j in range(NoOfSensor):\n",
    "\n",
    "\n",
    "        \n",
    "print(FeatureData_Fault1.shape) # (20,70)이 맞는지 확인\n",
    "print(FeatureData_Fault2.shape) # (20,70)이 맞는지 확인"
   ]
  },
  {
   "cell_type": "markdown",
   "metadata": {},
   "source": [
    ".\n",
    "\n",
    ".\n",
    "\n",
    ".\n",
    "\n"
   ]
  },
  {
   "cell_type": "markdown",
   "metadata": {},
   "source": [
    "### Data frame 형식으로 변환 및 데이터 확인 (코드수정x)"
   ]
  },
  {
   "cell_type": "code",
   "execution_count": null,
   "metadata": {},
   "outputs": [],
   "source": [
    "FeatureData_Fault1_df = pd.DataFrame(FeatureData_Fault1)\n",
    "FeatureData_Fault1_df"
   ]
  },
  {
   "cell_type": "code",
   "execution_count": null,
   "metadata": {},
   "outputs": [],
   "source": [
    "FeatureData_Fault2_df = pd.DataFrame(FeatureData_Fault2)\n",
    "FeatureData_Fault2_df"
   ]
  },
  {
   "cell_type": "markdown",
   "metadata": {},
   "source": [
    ".\n",
    "\n",
    ".\n",
    "\n",
    ".\n",
    "\n"
   ]
  },
  {
   "cell_type": "markdown",
   "metadata": {},
   "source": [
    "### 3단계 결과물 체출용 데이터 파일로 저장 (수강생 번호 외 코드수정X)\n",
    "\n",
    "- 위에서 데이터 이름(변수명) 가이드에 맞게 지정됐는지 재확인 요망"
   ]
  },
  {
   "cell_type": "code",
   "execution_count": null,
   "metadata": {},
   "outputs": [],
   "source": [
    "# StudentNo = 0   # 수강생 번호 입력\n",
    "\n",
    "Path1 = './Result/ST%d_DC3_1'%StudentNo\n",
    "Path2 = './Result/ST%d_DC3_2'%StudentNo\n",
    "\n",
    "FeatureData_Fault1_df.to_csv( Path1 , sep=',' , header=None , index=None)\n",
    "FeatureData_Fault2_df.to_csv( Path2 , sep=',' , header=None , index=None)"
   ]
  },
  {
   "cell_type": "markdown",
   "metadata": {},
   "source": [
    ".\n",
    "\n",
    ".\n",
    "\n",
    ".\n",
    "\n"
   ]
  },
  {
   "cell_type": "markdown",
   "metadata": {},
   "source": [
    "# 4단계 t-Test 기반 P-value < 0.01 인 주요 특징 선택 (10점)"
   ]
  },
  {
   "cell_type": "code",
   "execution_count": null,
   "metadata": {},
   "outputs": [],
   "source": [
    "import seaborn           as sb\n",
    "import scipy.stats       as sp"
   ]
  },
  {
   "cell_type": "markdown",
   "metadata": {},
   "source": [
    "- 3단계의 FeatureData_Fault1_df 및 FeatureData_Fault2_df 데이터 활용하여 특징별 P-value 계산"
   ]
  },
  {
   "cell_type": "code",
   "execution_count": null,
   "metadata": {},
   "outputs": [],
   "source": [
    "NoOfData    = int(FeatureData_Fault1_df.shape[1])  # 데이터 개수\n",
    "NoOfFeature = int(FeatureData_Fault1_df.shape[0])  # 특징 개수\n",
    "\n",
    "\n",
    "# P-value 추출 코드 작성\n",
    "\n"
   ]
  },
  {
   "cell_type": "markdown",
   "metadata": {},
   "source": [
    ".\n",
    "\n",
    ".\n",
    "\n",
    ".\n",
    "\n"
   ]
  },
  {
   "cell_type": "markdown",
   "metadata": {},
   "source": [
    "### P-value 오름차순으로 재정렬\n",
    "- P-value < 0.01인 특징개수 확인"
   ]
  },
  {
   "cell_type": "code",
   "execution_count": null,
   "metadata": {},
   "outputs": [],
   "source": [
    "\n",
    "# P-value 기준 오름차순 재정렬 코드 작성\n"
   ]
  },
  {
   "cell_type": "markdown",
   "metadata": {},
   "source": [
    "- P-value Rank에 따라 확률밀도함수/히스토그램 그래프 확인 (선택)"
   ]
  },
  {
   "cell_type": "code",
   "execution_count": null,
   "metadata": {},
   "outputs": [],
   "source": [
    "\n",
    "# 확률밀도함수/히스토그램 그래프 확인 코드 작성 (선택)\n"
   ]
  },
  {
   "cell_type": "markdown",
   "metadata": {},
   "source": [
    ".\n",
    "\n",
    ".\n",
    "\n",
    ".\n",
    "\n"
   ]
  },
  {
   "cell_type": "markdown",
   "metadata": {},
   "source": [
    "### 최종 선택된 특징데이터 인덱싱\n",
    "\n",
    "\n",
    "#### [필수] 추출 후 특징데이터 (총 1개) 이름(변수명) : \n",
    "- FeatureSelected"
   ]
  },
  {
   "cell_type": "code",
   "execution_count": null,
   "metadata": {},
   "outputs": [],
   "source": [
    "Rank =            # P-value < 0.01인 특징개수 입력\n",
    "\n",
    "FeatureSelected_Fault1 = np.zeros((Rank,NoOfData))\n",
    "FeatureSelected_Fault2 = np.zeros((Rank,NoOfData))\n",
    "\n",
    "\n",
    "# 특징 선택 코드 작성 \n",
    "\n",
    "\n",
    "FeatureSelected = pd.DataFrame(np.concatenate([FeatureSelected_Fault1, FeatureSelected_Fault2] , axis=1)) # 고장 1,2 데이터 합치기 \n",
    "\n",
    "print(FeatureSelected.shape)  # (Rank,140)이 맞는지 확인"
   ]
  },
  {
   "cell_type": "markdown",
   "metadata": {},
   "source": [
    ".\n",
    "\n",
    ".\n",
    "\n",
    ".\n",
    "\n"
   ]
  },
  {
   "cell_type": "markdown",
   "metadata": {},
   "source": [
    "### 4단계 결과물 체출용 데이터 파일로 저장 (수강생 번호 외 코드수정X)\n",
    "\n",
    "- 위에서 데이터 이름(변수명) 가이드에 맞게 지정됐는지 재확인 요망"
   ]
  },
  {
   "cell_type": "code",
   "execution_count": null,
   "metadata": {},
   "outputs": [],
   "source": [
    "# StudentNo = 0   # 수강생 번호 입력\n",
    "\n",
    "Path = './Result/ST%d_DC4'%StudentNo\n",
    "\n",
    "FeatureSelected.to_csv( Path , sep=',' , header=None , index=None)"
   ]
  },
  {
   "cell_type": "markdown",
   "metadata": {},
   "source": [
    ".\n",
    "\n",
    ".\n",
    "\n",
    ".\n",
    "\n"
   ]
  },
  {
   "cell_type": "markdown",
   "metadata": {},
   "source": [
    "# * 결과 데이터(DC1~4) 및 본 코드파일 함께 zip파일로 압축하여 제출\n",
    "\n",
    "### >>> 압축파일 이름 ST(수강생 번호)_DC (예시 : 'ST000_DC.zip'  //  'ST00_DC.zip'  //  'ST0_DC.zip')"
   ]
  },
  {
   "cell_type": "markdown",
   "metadata": {},
   "source": [
    ".\n",
    "\n",
    ".\n",
    "\n",
    ".\n",
    "\n"
   ]
  },
  {
   "cell_type": "markdown",
   "metadata": {},
   "source": [
    ".\n",
    "\n",
    ".\n",
    "\n",
    ".\n",
    "\n"
   ]
  },
  {
   "cell_type": "markdown",
   "metadata": {},
   "source": [
    "화이팅"
   ]
  }
 ],
 "metadata": {
  "kernelspec": {
   "display_name": "Python 3",
   "language": "python",
   "name": "python3"
  },
  "language_info": {
   "codemirror_mode": {
    "name": "ipython",
    "version": 3
   },
   "file_extension": ".py",
   "mimetype": "text/x-python",
   "name": "python",
   "nbconvert_exporter": "python",
   "pygments_lexer": "ipython3",
   "version": "3.6.10"
  }
 },
 "nbformat": 4,
 "nbformat_minor": 4
}
