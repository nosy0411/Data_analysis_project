{
 "cells": [
  {
   "cell_type": "markdown",
   "metadata": {},
   "source": [
    "## 라이브러리 import"
   ]
  },
  {
   "cell_type": "code",
   "execution_count": null,
   "metadata": {},
   "outputs": [],
   "source": [
    "import numpy       as np\n",
    "import pandas      as pd\n",
    "import matplotlib.pyplot as plt\n",
    "import pywt"
   ]
  },
  {
   "cell_type": "markdown",
   "metadata": {},
   "source": [
    "## 데이터 불러오기"
   ]
  },
  {
   "cell_type": "code",
   "execution_count": null,
   "metadata": {},
   "outputs": [],
   "source": [
    "Data = pd.read_csv('./ExampleData', sep=',', header=None)\n",
    "Data.shape"
   ]
  },
  {
   "cell_type": "code",
   "execution_count": null,
   "metadata": {},
   "outputs": [],
   "source": [
    "# 예제데이터 센서데이터 (1열 ~ 3열)\n",
    "plt.figure(figsize=(20,10))\n",
    "\n",
    "plt.subplot(3,1,1) # 가속도 데이터\n",
    "plt.plot(Data.iloc[:,0] , Data.iloc[:,1], color='r')\n",
    "plt.ylabel('Acceleration (g)',fontsize=15, color='r')\n",
    "plt.grid()\n",
    "\n",
    "plt.subplot(3,1,2)# 전압 데이터 \n",
    "plt.plot(Data.iloc[:,0] , Data.iloc[:,2], color='g')\n",
    "plt.ylabel('Voltage (V)',fontsize=15, color='g')\n",
    "plt.grid()\n",
    "\n",
    "plt.subplot(3,1,3) # 전류 데이터\n",
    "plt.plot(Data.iloc[:,0] , Data.iloc[:,3], color=[0,0,1])\n",
    "plt.ylabel('Current (kA)',fontsize=15, color='b')\n",
    "plt.xlabel('time (s)',fontsize=15)\n",
    "plt.grid()\n",
    "\n",
    "plt.show()"
   ]
  },
  {
   "cell_type": "markdown",
   "metadata": {},
   "source": [
    "## Wavelet Transform 수행"
   ]
  },
  {
   "cell_type": "markdown",
   "metadata": {},
   "source": [
    "Wavelet Transfrom 실행 위한 파라미터 설정"
   ]
  },
  {
   "cell_type": "code",
   "execution_count": null,
   "metadata": {},
   "outputs": [],
   "source": [
    "MotherWavelet = pywt.Wavelet('haar')\n",
    "Level  = 8"
   ]
  },
  {
   "cell_type": "markdown",
   "metadata": {},
   "source": [
    "Wavelet Transform 실행 : Coefficient 생성"
   ]
  },
  {
   "cell_type": "code",
   "execution_count": null,
   "metadata": {},
   "outputs": [],
   "source": [
    "Coefficient = pywt.wavedec(Data.iloc[:,1], MotherWavelet, level=Level, axis=0)\n",
    "Coefficient"
   ]
  },
  {
   "cell_type": "code",
   "execution_count": null,
   "metadata": {},
   "outputs": [],
   "source": [
    "# 데이터 프레임 형태로 확인\n",
    "Coefficient_df = pd.DataFrame(Coefficient)\n",
    "Coefficient_df"
   ]
  },
  {
   "cell_type": "markdown",
   "metadata": {},
   "source": [
    "각 WT Coefficent (주파수 영역별 신호) 별 데이터 사이즈 확인"
   ]
  },
  {
   "cell_type": "code",
   "execution_count": null,
   "metadata": {},
   "outputs": [],
   "source": [
    "print('Size of a',Level, ' = ', len(Coefficient[0]))  # 첫번째 Coefficient : 최저주파수 신호 (a-최대레벨)\n",
    "\n",
    "for i in range(1,Level+1):\n",
    "    print('Size of d',Level+1-i , ' = ', len(Coefficient[i])) # 두번째 Coefficient(d-최대레벨) ~ 마지막 Coefficient(d1)\n",
    "    "
   ]
  },
  {
   "cell_type": "markdown",
   "metadata": {},
   "source": [
    "### Wavelet Transfrom 결과 그래프 확인"
   ]
  },
  {
   "cell_type": "code",
   "execution_count": null,
   "metadata": {},
   "outputs": [],
   "source": [
    "plt.figure(figsize=(15,20))\n",
    "\n",
    "plt.subplot(Level+2,1,1)\n",
    "plt.plot(Data.iloc[:,0] , Data.iloc[:,1], color='r')\n",
    "plt.ylabel('Raw data')\n",
    "plt.grid()\n",
    "\n",
    "plt.subplot(Level+2,1,2)\n",
    "Time_temp = np.arange( 0 , 0.2167 + 0.2167/(len(Coefficient[0])-1) , 0.2167/(len(Coefficient[0])-1) )\n",
    "plt.plot(Time_temp , Coefficient[0])\n",
    "plt.ylabel('a %d' %(Level))\n",
    "plt.grid()\n",
    "\n",
    "for k in range(1,Level+1):\n",
    "    plt.subplot(Level+2,1,k+2)\n",
    "    Time_temp = np.arange( 0 , 0.2167 + 0.2167/(len(Coefficient[k])-1) , 0.2167/(len(Coefficient[k])-1) )\n",
    "    plt.plot(Time_temp , Coefficient[k])\n",
    "    plt.ylabel('d %d'%(Level+1-k))\n",
    "    plt.grid()\n",
    "\n",
    "plt.show()"
   ]
  },
  {
   "cell_type": "code",
   "execution_count": null,
   "metadata": {},
   "outputs": [],
   "source": []
  }
 ],
 "metadata": {
  "kernelspec": {
   "display_name": "Python 3",
   "language": "python",
   "name": "python3"
  },
  "language_info": {
   "codemirror_mode": {
    "name": "ipython",
    "version": 3
   },
   "file_extension": ".py",
   "mimetype": "text/x-python",
   "name": "python",
   "nbconvert_exporter": "python",
   "pygments_lexer": "ipython3",
   "version": "3.7.7"
  }
 },
 "nbformat": 4,
 "nbformat_minor": 2
}
