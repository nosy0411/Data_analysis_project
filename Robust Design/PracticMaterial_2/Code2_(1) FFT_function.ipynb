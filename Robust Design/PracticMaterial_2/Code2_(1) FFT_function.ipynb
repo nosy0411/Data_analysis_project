{
 "cells": [
  {
   "cell_type": "markdown",
   "metadata": {},
   "source": [
    "## 라이브러리 import "
   ]
  },
  {
   "cell_type": "code",
   "execution_count": null,
   "metadata": {},
   "outputs": [],
   "source": [
    "import pandas as pd\n",
    "import numpy as np\n",
    "import matplotlib.pyplot as plt\n",
    "import math"
   ]
  },
  {
   "cell_type": "markdown",
   "metadata": {},
   "source": [
    "## 주파수 f, 각주파수 w 정의"
   ]
  },
  {
   "cell_type": "code",
   "execution_count": null,
   "metadata": {},
   "outputs": [],
   "source": [
    "f1 = 2  # 주파수 입력\n",
    "f2 = 3\n",
    "f3 = 5\n",
    "f4 = 21\n",
    "f5 = 30\n",
    "\n",
    "w1 = 2*np.pi*f1  # w = 2pi*f\n",
    "w2 = 2*np.pi*f2\n",
    "w3 = 2*np.pi*f3\n",
    "w4 = 2*np.pi*f4\n",
    "w5 = 2*np.pi*f5"
   ]
  },
  {
   "cell_type": "code",
   "execution_count": null,
   "metadata": {},
   "outputs": [],
   "source": [
    "print(\"f1 =\",f1, \"/ f2 =\",f2, \"/ f3 =\",f3, \"/ f4 =\",f4, \"/ f5 =\",f5 )\n",
    "print(\"w1 =\",w1, \"/ w2 =\",w2, \"/ w3 =\",w3, \"/ w4 =\",w4, \"/ w5 =\",w5 )"
   ]
  },
  {
   "cell_type": "markdown",
   "metadata": {},
   "source": [
    "## 샘플링 주파수, 이산함수 정의 및 그래프"
   ]
  },
  {
   "cell_type": "code",
   "execution_count": null,
   "metadata": {},
   "outputs": [],
   "source": [
    "t = np.arange(0,10,0.01)   # sampling freq : 100 Hz // sampling time : 10 seconds\n",
    "#t = np.arange(0:10:0.001)  # sampling freq : 1000 Hz\n",
    "x = np.sin(w1*t) + 3*np.sin(w2*t) + 7*np.sin(w3*t) + 21*np.sin(w4*t) + 30*np.sin(w5*t)\n",
    "\n",
    "t.shape"
   ]
  },
  {
   "cell_type": "code",
   "execution_count": null,
   "metadata": {},
   "outputs": [],
   "source": [
    "plt.plot(t, x, 'r-')\n",
    "plt.xlabel('t',fontsize=20)\n",
    "plt.ylabel('x',fontsize=20)\n",
    "#plt.xlim(0,1)\n",
    "plt.show()"
   ]
  },
  {
   "cell_type": "markdown",
   "metadata": {},
   "source": [
    "## FFT 실행"
   ]
  },
  {
   "cell_type": "markdown",
   "metadata": {},
   "source": [
    "Sampling frequency 계산 : Fs = 데이터 개수/시간"
   ]
  },
  {
   "cell_type": "code",
   "execution_count": null,
   "metadata": {},
   "outputs": [],
   "source": [
    "Fs = int(len(t)/t[-1])\n",
    "Fs"
   ]
  },
  {
   "cell_type": "markdown",
   "metadata": {},
   "source": [
    "FFT 연산"
   ]
  },
  {
   "cell_type": "code",
   "execution_count": null,
   "metadata": {},
   "outputs": [],
   "source": [
    "NFFT   =  len(x)                           # length of signal > NFFT = 2 ^ nextpow2(length(y)) \n",
    "k      =  np.arange(NFFT)\n",
    "f0     =  k * Fs / NFFT                    # Double sides Frequency range\n",
    "f0     =  f0[range(math.trunc(NFFT/2))]    # Single side  Frequency range\n",
    "\n",
    "Y      =  np.fft.fft(x)/NFFT               # FFT computing and normalization\n",
    "Y      =  Y[range(math.trunc(NFFT/2))]     # Single side  Frequency range\n",
    "amp_Hz =  2 * abs(Y)\n",
    "phase_ang = np.angle(Y) * 180/np.pi"
   ]
  },
  {
   "cell_type": "code",
   "execution_count": null,
   "metadata": {},
   "outputs": [],
   "source": [
    "plt.figure(figsize=(16,5))\n",
    "plt.plot(f0,amp_Hz,'r.-', lw=1)\n",
    "plt.xlim(0, Fs/2)\n",
    "plt.ylim(0)\n",
    "plt.xticks(np.arange(0,(Fs/2)+1))\n",
    "plt.xlabel('frequency(Hz)')\n",
    "plt.ylabel('amplitude')\n",
    "plt.grid()"
   ]
  },
  {
   "cell_type": "code",
   "execution_count": null,
   "metadata": {},
   "outputs": [],
   "source": []
  }
 ],
 "metadata": {
  "kernelspec": {
   "display_name": "Python 3",
   "language": "python",
   "name": "python3"
  },
  "language_info": {
   "codemirror_mode": {
    "name": "ipython",
    "version": 3
   },
   "file_extension": ".py",
   "mimetype": "text/x-python",
   "name": "python",
   "nbconvert_exporter": "python",
   "pygments_lexer": "ipython3",
   "version": "3.7.7"
  }
 },
 "nbformat": 4,
 "nbformat_minor": 2
}
