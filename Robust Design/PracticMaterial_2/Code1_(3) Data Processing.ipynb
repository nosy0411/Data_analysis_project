{
 "cells": [
  {
   "cell_type": "markdown",
   "metadata": {},
   "source": [
    "## 라이브러리(패키지) import"
   ]
  },
  {
   "cell_type": "code",
   "execution_count": null,
   "metadata": {},
   "outputs": [],
   "source": [
    "import pandas as pd\n",
    "import numpy as np\n",
    "import matplotlib.pyplot as plt"
   ]
  },
  {
   "cell_type": "markdown",
   "metadata": {},
   "source": [
    "## 데이터 불러오기"
   ]
  },
  {
   "cell_type": "code",
   "execution_count": null,
   "metadata": {},
   "outputs": [],
   "source": [
    "ExampleData = pd.read_csv('./ExampleData', sep=',', header=None)\n",
    "ExampleData"
   ]
  },
  {
   "cell_type": "markdown",
   "metadata": {},
   "source": [
    "## 대표값 추출하기"
   ]
  },
  {
   "cell_type": "code",
   "execution_count": null,
   "metadata": {},
   "outputs": [],
   "source": [
    "def rms(a): #rms 함수 정의\n",
    "    return np.sqrt(np.mean(a**2))"
   ]
  },
  {
   "cell_type": "code",
   "execution_count": null,
   "metadata": {},
   "outputs": [],
   "source": [
    "Max  = np.max(ExampleData.iloc[:,1])\n",
    "Min  = np.min(ExampleData.iloc[:,1])\n",
    "RMS  =    rms(ExampleData.iloc[:,1])\n",
    "Var  = np.var(ExampleData.iloc[:,1])\n",
    "Std  = np.std(ExampleData.iloc[:,1])\n",
    "Mean = np.mean(ExampleData.iloc[:,1])\n",
    "\n",
    "Rep_values = np.array([Max, Min, RMS, Var, Std, Mean])\n",
    "Rep_values"
   ]
  },
  {
   "cell_type": "code",
   "execution_count": null,
   "metadata": {},
   "outputs": [],
   "source": [
    "# for 구문 이용하여 각센서 대표값 추출하기\n",
    "\n",
    "Rep_Values = np.zeros((6 , ExampleData.shape[1]-1))\n",
    "for i in range(1,ExampleData.shape[1]):\n",
    "    \n",
    "    Rep_Values[0,i-1] = np.max(ExampleData.iloc[:,i])\n",
    "    Rep_Values[1,i-1] = np.min(ExampleData.iloc[:,i])\n",
    "    Rep_Values[2,i-1] =    rms(ExampleData.iloc[:,i])\n",
    "    Rep_Values[3,i-1] = np.var(ExampleData.iloc[:,i])\n",
    "    Rep_Values[4,i-1] = np.std(ExampleData.iloc[:,i])\n",
    "    Rep_Values[5,i-1] = np.mean(ExampleData.iloc[:,i])\n",
    "    \n",
    "Rep_Values\n",
    "    "
   ]
  },
  {
   "cell_type": "code",
   "execution_count": null,
   "metadata": {},
   "outputs": [],
   "source": [
    "# for 구문 이용하여 각센서 데이터의 0.01초마다 RMS값 변화 확인\n",
    "\n",
    "RMS_Values = np.zeros((21 , ExampleData.shape[1]-1))\n",
    "\n",
    "for i in range(1,ExampleData.shape[1]):\n",
    "    for j in range(21):\n",
    "        \n",
    "       RMS_Values[j,i-1] = rms(ExampleData.iloc[128*(j):128*(j+1),i])\n",
    "        \n",
    "RMS_Values.shape\n"
   ]
  },
  {
   "cell_type": "code",
   "execution_count": null,
   "metadata": {},
   "outputs": [],
   "source": [
    "# 그래프\n",
    "\n",
    "plt.figure(figsize=(15,7))\n",
    "plt.plot(range(21), RMS_Values[:,0], 'o--', markersize = 5, mfc = 'b', mec = 'b')\n",
    "plt.plot(range(21), RMS_Values[:,1], 'o--', markersize = 5, mfc = 'r', mec = 'r')\n",
    "plt.plot(range(21), RMS_Values[:,2], 'o--', markersize = 5, mfc = 'g', mec = 'g')\n",
    "plt.grid()\n",
    "plt.xlabel('time(s)')\n",
    "plt.ylabel('RMS(g)')\n",
    "\n",
    "plt.show()"
   ]
  },
  {
   "cell_type": "code",
   "execution_count": null,
   "metadata": {},
   "outputs": [],
   "source": []
  }
 ],
 "metadata": {
  "kernelspec": {
   "display_name": "Python 3",
   "language": "python",
   "name": "python3"
  },
  "language_info": {
   "codemirror_mode": {
    "name": "ipython",
    "version": 3
   },
   "file_extension": ".py",
   "mimetype": "text/x-python",
   "name": "python",
   "nbconvert_exporter": "python",
   "pygments_lexer": "ipython3",
   "version": "3.7.7"
  }
 },
 "nbformat": 4,
 "nbformat_minor": 2
}
